{
 "cells": [
  {
   "cell_type": "code",
   "execution_count": 1,
   "id": "2ece2f97",
   "metadata": {},
   "outputs": [],
   "source": [
    "import numpy as np\n",
    "from collections import Counter"
   ]
  },
  {
   "cell_type": "code",
   "execution_count": 2,
   "id": "e4265842",
   "metadata": {},
   "outputs": [],
   "source": [
    "class Node:\n",
    "    def __init__(self, feature=None, threshold=None, left=None, right=None, info_gain=None, value=None):\n",
    "        #Constructor\n",
    "        self.feature = feature\n",
    "        print(\"--- \"+str(feature))\n",
    "        self.threshold = threshold\n",
    "        self.left = left\n",
    "        self.right = right\n",
    "        self.info_gain=info_gain\n",
    "        self.value = value\n",
    "        #verifier si le noad est un feuille\n",
    "    def is_leaf_node(self):\n",
    "        return self.value is not None"
   ]
  },
  {
   "cell_type": "code",
   "execution_count": 38,
   "id": "1caec1f0",
   "metadata": {},
   "outputs": [],
   "source": [
    "class DecisionTree:\n",
    "    \n",
    "    #Constructor\n",
    "    def __init__(self, min_samples_split=1, max_depth=100, n_features=None):\n",
    "        self.min_samples_split=min_samples_split\n",
    "        self.max_depth=max_depth\n",
    "        self.n_features=n_features\n",
    "        self.root=None\n",
    "        self.features_names=None\n",
    "        \n",
    "    def fit(self, X, y,features_names):\n",
    "        self.features_names=features_names\n",
    "        self.n_features = X.shape[1] if not self.n_features else min(X.shape[1],self.n_features)\n",
    "        self.root = self._build_tree(X, y,features_names)\n",
    "        return self\n",
    "\n",
    "        #construire l'arbre\n",
    "    def _build_tree(self, X, y,features_names,depth=0):\n",
    "        n_samples=X.shape[0]\n",
    "        n_feats = X.shape[1]\n",
    "        n_labels = len(np.unique(y))\n",
    "\n",
    "        # check the stopping criteria\n",
    "        if (depth>=self.max_depth or n_labels==1 or n_samples<self.min_samples_split):\n",
    "            leaf_value = self._most_common_label(y)\n",
    "            return Node(feature=-1,value=leaf_value)\n",
    "\n",
    "        feat_idxs = np.random.choice(n_feats, n_feats, replace=False)\n",
    "\n",
    "        # find the best \n",
    "        best_feature, best_thresh , best_gain= self._best_split(X, y, feat_idxs)\n",
    "        # create child nodes\n",
    "        left_idxs, right_idxs = self._split(X[:, best_feature], best_thresh)\n",
    "        X=np.delete(X, best_feature, 1)\n",
    "        best_features_name=features_names[best_feature]\n",
    "        features_names=np.delete(features_names, best_feature)\n",
    "\n",
    "        left = self._build_tree(X[left_idxs, :].copy(), y[left_idxs], features_names.copy(),depth+1)\n",
    "        right = self._build_tree(X[right_idxs, :].copy(), y[right_idxs],features_names.copy(), depth+1)\n",
    "        \n",
    "        return Node(best_features_name, best_thresh, left, right, best_gain)\n",
    "\n",
    "\n",
    "    #choisir le bon attribut et le seuil pour diviser la population\n",
    "    def _best_split(self, X, y, feat_idxs):\n",
    "        best_gain = -1\n",
    "        split_idx, split_threshold = None, None\n",
    "\n",
    "        #boucler sur chaque attributs\n",
    "        for feat_idx in feat_idxs:\n",
    "            X_column = X[:, feat_idx]\n",
    "            thresholds = np.unique(X_column)\n",
    "\n",
    "            #boucler sur chaque valeur possible d'un attribut\n",
    "            for thr in thresholds :\n",
    "                # calculate the information gain\n",
    "                gain = self._information_gain(y, X_column, thr)\n",
    "\n",
    "                if gain > best_gain:\n",
    "                    best_gain = gain\n",
    "                    split_idx = feat_idx\n",
    "                    split_threshold = thr\n",
    "\n",
    "        return split_idx, split_threshold, best_gain\n",
    "\n",
    "\n",
    "    #calcule le gain d'information de chaque split selon le feature et la valeur de seuil\n",
    "    def _information_gain(self, y, X_column, threshold):\n",
    "        # parent entropy\n",
    "        parent_entropy = self._entropy(y)\n",
    "\n",
    "        # create children\n",
    "        left_idxs, right_idxs = self._split(X_column, threshold)\n",
    "\n",
    "        if len(left_idxs) == 0 or len(right_idxs) == 0:\n",
    "            return 0\n",
    "        \n",
    "        # calculate the weighted avg. entropy of children\n",
    "        n = len(y)\n",
    "        n_l, n_r = len(left_idxs), len(right_idxs)\n",
    "        e_l, e_r = self._entropy(y[left_idxs]), self._entropy(y[right_idxs])\n",
    "        child_entropy = (n_l/n) * e_l + (n_r/n) * e_r\n",
    "\n",
    "        # calculate the IG\n",
    "        information_gain = parent_entropy - child_entropy\n",
    "        return information_gain\n",
    "\n",
    "    #diviser l'arbre en deux parties\n",
    "    def _split(self, X_column, split_thresh):\n",
    "        left_idxs = np.argwhere(X_column <= split_thresh).flatten()\n",
    "        right_idxs = np.argwhere(X_column > split_thresh).flatten()\n",
    "        return left_idxs, right_idxs\n",
    "\n",
    "    #calcule l'enropy\n",
    "    def _entropy(self, y):\n",
    "        hist = np.bincount(y.reshape(-1))\n",
    "        ps = hist / len(y)\n",
    "        return -np.sum([p * np.log(p) for p in ps if p>0])\n",
    "\n",
    "\n",
    "    def _most_common_label(self, y):\n",
    "        counter = Counter(y.reshape(-1))\n",
    "        value = counter.most_common(1)[0][0]\n",
    "        return value\n",
    "\n",
    "    #prediction\n",
    "    def predict(self, X):\n",
    "        return np.array([self._traverse_tree(x, self.root) for x in X])\n",
    "\n",
    "    def _traverse_tree(self, x, node):\n",
    "        if node.is_leaf_node():\n",
    "            return node.value\n",
    "        \n",
    "        index=np.where(self.features_names == node.feature)[0]\n",
    "        if x[index] <= node.threshold:\n",
    "            return self._traverse_tree(x, node.left)\n",
    "        return self._traverse_tree(x, node.right)\n",
    "    \n",
    "    \n",
    "    def print_tree(self, tree=None, indent=\"--\"):\n",
    "        \n",
    "        if not tree:\n",
    "            tree = self.root\n",
    "            \n",
    "        if tree.value is not None:\n",
    "            print(tree.value)\n",
    "\n",
    "        else:\n",
    "            print(\"feature_\"+str(tree.feature), \"| threshoed <= \", tree.threshold, \" | gain info :\", tree.info_gain)\n",
    "            print(\"%sleft:\" % (indent), end=\"\")\n",
    "            self.print_tree(tree.left, indent + indent)\n",
    "            print(\"%sright:\" % (indent), end=\"\")\n",
    "            self.print_tree(tree.right, indent + indent)"
   ]
  },
  {
   "cell_type": "code",
   "execution_count": 39,
   "id": "c211143a",
   "metadata": {},
   "outputs": [
    {
     "data": {
      "text/html": [
       "<div>\n",
       "<style scoped>\n",
       "    .dataframe tbody tr th:only-of-type {\n",
       "        vertical-align: middle;\n",
       "    }\n",
       "\n",
       "    .dataframe tbody tr th {\n",
       "        vertical-align: top;\n",
       "    }\n",
       "\n",
       "    .dataframe thead th {\n",
       "        text-align: right;\n",
       "    }\n",
       "</style>\n",
       "<table border=\"1\" class=\"dataframe\">\n",
       "  <thead>\n",
       "    <tr style=\"text-align: right;\">\n",
       "      <th></th>\n",
       "      <th>months_as_customer</th>\n",
       "      <th>age</th>\n",
       "      <th>capital-gains</th>\n",
       "      <th>total_claim_amount</th>\n",
       "      <th>fraud_reported</th>\n",
       "    </tr>\n",
       "  </thead>\n",
       "  <tbody>\n",
       "    <tr>\n",
       "      <th>0</th>\n",
       "      <td>328</td>\n",
       "      <td>48</td>\n",
       "      <td>53300</td>\n",
       "      <td>71610</td>\n",
       "      <td>0</td>\n",
       "    </tr>\n",
       "    <tr>\n",
       "      <th>1</th>\n",
       "      <td>228</td>\n",
       "      <td>42</td>\n",
       "      <td>0</td>\n",
       "      <td>5070</td>\n",
       "      <td>1</td>\n",
       "    </tr>\n",
       "    <tr>\n",
       "      <th>2</th>\n",
       "      <td>134</td>\n",
       "      <td>29</td>\n",
       "      <td>35100</td>\n",
       "      <td>34650</td>\n",
       "      <td>0</td>\n",
       "    </tr>\n",
       "    <tr>\n",
       "      <th>3</th>\n",
       "      <td>256</td>\n",
       "      <td>41</td>\n",
       "      <td>48900</td>\n",
       "      <td>63400</td>\n",
       "      <td>0</td>\n",
       "    </tr>\n",
       "    <tr>\n",
       "      <th>4</th>\n",
       "      <td>228</td>\n",
       "      <td>44</td>\n",
       "      <td>66000</td>\n",
       "      <td>6500</td>\n",
       "      <td>1</td>\n",
       "    </tr>\n",
       "    <tr>\n",
       "      <th>5</th>\n",
       "      <td>256</td>\n",
       "      <td>39</td>\n",
       "      <td>0</td>\n",
       "      <td>64100</td>\n",
       "      <td>0</td>\n",
       "    </tr>\n",
       "    <tr>\n",
       "      <th>6</th>\n",
       "      <td>137</td>\n",
       "      <td>34</td>\n",
       "      <td>0</td>\n",
       "      <td>78650</td>\n",
       "      <td>0</td>\n",
       "    </tr>\n",
       "    <tr>\n",
       "      <th>7</th>\n",
       "      <td>165</td>\n",
       "      <td>37</td>\n",
       "      <td>0</td>\n",
       "      <td>51590</td>\n",
       "      <td>1</td>\n",
       "    </tr>\n",
       "    <tr>\n",
       "      <th>8</th>\n",
       "      <td>27</td>\n",
       "      <td>33</td>\n",
       "      <td>0</td>\n",
       "      <td>27700</td>\n",
       "      <td>0</td>\n",
       "    </tr>\n",
       "    <tr>\n",
       "      <th>9</th>\n",
       "      <td>212</td>\n",
       "      <td>42</td>\n",
       "      <td>0</td>\n",
       "      <td>42300</td>\n",
       "      <td>1</td>\n",
       "    </tr>\n",
       "    <tr>\n",
       "      <th>10</th>\n",
       "      <td>235</td>\n",
       "      <td>42</td>\n",
       "      <td>38400</td>\n",
       "      <td>87010</td>\n",
       "      <td>0</td>\n",
       "    </tr>\n",
       "    <tr>\n",
       "      <th>11</th>\n",
       "      <td>447</td>\n",
       "      <td>61</td>\n",
       "      <td>0</td>\n",
       "      <td>114920</td>\n",
       "      <td>0</td>\n",
       "    </tr>\n",
       "    <tr>\n",
       "      <th>12</th>\n",
       "      <td>60</td>\n",
       "      <td>23</td>\n",
       "      <td>0</td>\n",
       "      <td>56520</td>\n",
       "      <td>1</td>\n",
       "    </tr>\n",
       "    <tr>\n",
       "      <th>13</th>\n",
       "      <td>121</td>\n",
       "      <td>34</td>\n",
       "      <td>52800</td>\n",
       "      <td>7280</td>\n",
       "      <td>0</td>\n",
       "    </tr>\n",
       "    <tr>\n",
       "      <th>14</th>\n",
       "      <td>180</td>\n",
       "      <td>38</td>\n",
       "      <td>41300</td>\n",
       "      <td>46200</td>\n",
       "      <td>0</td>\n",
       "    </tr>\n",
       "  </tbody>\n",
       "</table>\n",
       "</div>"
      ],
      "text/plain": [
       "    months_as_customer  age  capital-gains  total_claim_amount  fraud_reported\n",
       "0                  328   48          53300               71610               0\n",
       "1                  228   42              0                5070               1\n",
       "2                  134   29          35100               34650               0\n",
       "3                  256   41          48900               63400               0\n",
       "4                  228   44          66000                6500               1\n",
       "5                  256   39              0               64100               0\n",
       "6                  137   34              0               78650               0\n",
       "7                  165   37              0               51590               1\n",
       "8                   27   33              0               27700               0\n",
       "9                  212   42              0               42300               1\n",
       "10                 235   42          38400               87010               0\n",
       "11                 447   61              0              114920               0\n",
       "12                  60   23              0               56520               1\n",
       "13                 121   34          52800                7280               0\n",
       "14                 180   38          41300               46200               0"
      ]
     },
     "execution_count": 39,
     "metadata": {},
     "output_type": "execute_result"
    }
   ],
   "source": [
    "import pandas as pd\n",
    "\n",
    "col_names = ['months_as_customer', 'age', 'capital-gains', 'total_claim_amount', 'fraud_reported']\n",
    "data = pd.read_csv(\"InsuranceFraudDetection.csv\")[col_names].loc[0:25]\n",
    "data.head(15)"
   ]
  },
  {
   "cell_type": "code",
   "execution_count": 40,
   "id": "9f4900a9",
   "metadata": {},
   "outputs": [],
   "source": [
    "X = data.iloc[:, :-1].values\n",
    "Y = data.iloc[:, -1].values.reshape(-1,1)"
   ]
  },
  {
   "cell_type": "code",
   "execution_count": 41,
   "id": "547d4721",
   "metadata": {
    "scrolled": true
   },
   "outputs": [
    {
     "data": {
      "text/plain": [
       "array([[   328,     48,  53300,  71610],\n",
       "       [   228,     42,      0,   5070],\n",
       "       [   134,     29,  35100,  34650],\n",
       "       [   256,     41,  48900,  63400],\n",
       "       [   228,     44,  66000,   6500],\n",
       "       [   256,     39,      0,  64100],\n",
       "       [   137,     34,      0,  78650],\n",
       "       [   165,     37,      0,  51590],\n",
       "       [    27,     33,      0,  27700],\n",
       "       [   212,     42,      0,  42300],\n",
       "       [   235,     42,  38400,  87010],\n",
       "       [   447,     61,      0, 114920],\n",
       "       [    60,     23,      0,  56520],\n",
       "       [   121,     34,  52800,   7280],\n",
       "       [   180,     38,  41300,  46200],\n",
       "       [   473,     58,  55700,  63120],\n",
       "       [    70,     26,  63600,  52110],\n",
       "       [   140,     31,  53500,  77880],\n",
       "       [   160,     37,  45500,  72930],\n",
       "       [   196,     39,  57000,  60400],\n",
       "       [   460,     62,      0,  47160],\n",
       "       [   217,     41,  46700,  37840],\n",
       "       [   370,     55,  72700,  71520],\n",
       "       [   413,     55,      0,  98160],\n",
       "       [   237,     40,      0,  77880],\n",
       "       [     8,     35,      0,  71500]], dtype=int64)"
      ]
     },
     "execution_count": 41,
     "metadata": {},
     "output_type": "execute_result"
    }
   ],
   "source": [
    "X"
   ]
  },
  {
   "cell_type": "code",
   "execution_count": 42,
   "id": "c858dca9",
   "metadata": {},
   "outputs": [
    {
     "data": {
      "text/plain": [
       "array([[0],\n",
       "       [1],\n",
       "       [0],\n",
       "       [0],\n",
       "       [1],\n",
       "       [0],\n",
       "       [0],\n",
       "       [1],\n",
       "       [0],\n",
       "       [1],\n",
       "       [0],\n",
       "       [0],\n",
       "       [1],\n",
       "       [0],\n",
       "       [0],\n",
       "       [0],\n",
       "       [0],\n",
       "       [0],\n",
       "       [0],\n",
       "       [0],\n",
       "       [0],\n",
       "       [0],\n",
       "       [0],\n",
       "       [0],\n",
       "       [0],\n",
       "       [0]], dtype=int64)"
      ]
     },
     "execution_count": 42,
     "metadata": {},
     "output_type": "execute_result"
    }
   ],
   "source": [
    "Y"
   ]
  },
  {
   "cell_type": "code",
   "execution_count": 47,
   "id": "6426f0c2",
   "metadata": {},
   "outputs": [],
   "source": [
    "from sklearn.model_selection import train_test_split\n",
    "X_train, X_test, Y_train, Y_test = train_test_split(X, Y, test_size=.5, random_state=1)"
   ]
  },
  {
   "cell_type": "code",
   "execution_count": 48,
   "id": "4d8307f8",
   "metadata": {},
   "outputs": [
    {
     "name": "stdout",
     "output_type": "stream",
     "text": [
      "--- -1\n",
      "--- -1\n",
      "--- -1\n",
      "--- capital-gains\n",
      "--- months_as_customer\n",
      "--- -1\n",
      "--- age\n",
      "--- -1\n",
      "--- total_claim_amount\n",
      "[0 0 0 0 0 0 0 0 0 0 0 0 0]\n"
     ]
    },
    {
     "name": "stderr",
     "output_type": "stream",
     "text": [
      "C:\\Users\\ZenBook\\AppData\\Local\\Temp/ipykernel_72208/3047285096.py:115: DeprecationWarning: The truth value of an empty array is ambiguous. Returning False, but in future this will result in an error. Use `array.size > 0` to check that an array is not empty.\n",
      "  if x[index] <= node.threshold:\n"
     ]
    },
    {
     "data": {
      "text/plain": [
       "array([[0],\n",
       "       [0],\n",
       "       [0],\n",
       "       [0],\n",
       "       [0],\n",
       "       [0],\n",
       "       [0],\n",
       "       [0],\n",
       "       [1],\n",
       "       [0],\n",
       "       [0],\n",
       "       [0],\n",
       "       [0]], dtype=int64)"
      ]
     },
     "execution_count": 48,
     "metadata": {},
     "output_type": "execute_result"
    }
   ],
   "source": [
    "clf = DecisionTree(max_depth=1000)\n",
    "features_names= ['months_as_customer', 'age', 'capital-gains', 'total_claim_amount']\n",
    "clf.fit(X_train, Y_train,features_names)\n",
    "predictions = clf.predict(X_test)\n",
    "print(predictions)\n",
    "Y_test\n",
    "# 0 :No fraud , 1:fraud"
   ]
  },
  {
   "cell_type": "code",
   "execution_count": 49,
   "id": "d4380a40",
   "metadata": {},
   "outputs": [
    {
     "data": {
      "text/plain": [
       "0.9230769230769231"
      ]
     },
     "execution_count": 49,
     "metadata": {},
     "output_type": "execute_result"
    }
   ],
   "source": [
    "from sklearn.metrics import accuracy_score\n",
    "accuracy_score(Y_test, predictions)"
   ]
  },
  {
   "cell_type": "code",
   "execution_count": null,
   "id": "d188fbc8",
   "metadata": {},
   "outputs": [],
   "source": []
  },
  {
   "cell_type": "code",
   "execution_count": 50,
   "id": "f43473ac",
   "metadata": {},
   "outputs": [
    {
     "name": "stdout",
     "output_type": "stream",
     "text": [
      "feature_total_claim_amount | threshoed <=  56520  | gain info : 0.3234659997481203\n",
      "--left:feature_age | threshoed <=  33  | gain info : 0.3182570841474064\n",
      "----left:feature_months_as_customer | threshoed <=  27  | gain info : 0.17441604792151594\n",
      "--------left:0\n",
      "--------right:feature_capital-gains | threshoed <=  0  | gain info : 0.6931471805599453\n",
      "----------------left:1\n",
      "----------------right:0\n",
      "----right:1\n",
      "--right:0\n"
     ]
    }
   ],
   "source": [
    "clf.print_tree()"
   ]
  },
  {
   "cell_type": "code",
   "execution_count": 12,
   "id": "e92010bd",
   "metadata": {},
   "outputs": [
    {
     "data": {
      "text/plain": [
       "[[128.0, 40.0, 3306.91, 15500.0]]"
      ]
     },
     "execution_count": 12,
     "metadata": {},
     "output_type": "execute_result"
    }
   ],
   "source": [
    "T=[[ 1.28000e+02,  4.0000e+01,  3.30691e+03,  1.55000e+04]]\n",
    "T"
   ]
  },
  {
   "cell_type": "code",
   "execution_count": 13,
   "id": "6943c811",
   "metadata": {},
   "outputs": [
    {
     "data": {
      "text/plain": [
       "array([0], dtype=int64)"
      ]
     },
     "execution_count": 13,
     "metadata": {},
     "output_type": "execute_result"
    }
   ],
   "source": [
    "clf.predict(T)"
   ]
  },
  {
   "cell_type": "code",
   "execution_count": null,
   "id": "7f2ec0fd",
   "metadata": {},
   "outputs": [],
   "source": []
  }
 ],
 "metadata": {
  "kernelspec": {
   "display_name": "Python 3 (ipykernel)",
   "language": "python",
   "name": "python3"
  },
  "language_info": {
   "codemirror_mode": {
    "name": "ipython",
    "version": 3
   },
   "file_extension": ".py",
   "mimetype": "text/x-python",
   "name": "python",
   "nbconvert_exporter": "python",
   "pygments_lexer": "ipython3",
   "version": "3.9.13"
  }
 },
 "nbformat": 4,
 "nbformat_minor": 5
}
